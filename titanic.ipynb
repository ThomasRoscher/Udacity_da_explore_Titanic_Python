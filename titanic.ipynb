{
 "cells": [
  {
   "cell_type": "markdown",
   "metadata": {},
   "source": [
    "## Titanic - Who did survive?\n",
    "\n",
    "### 1. Introduction\n",
    "\n",
    "\n",
    "This small project is part of the Udacity Nanodegree \"Data Analyst\" were I basically try to familiarize myself with the Pandas, Numpy and Seaborn libraries. For this, **I visually investigate how victims and survivors of the Titanic's sinking differ in several terms including socio-economic status, age, and gender**. To my mind, the Titanic dataset is a good starting point to get ones head around Python because it is clean and simply structured. The focus for this project lies on some basic data wrangling, exploring tasks, and test statistics. Lastly, I'm a R user and this is my first ever Python script so do not expect anything to fancy and bare with me I guess. "
   ]
  },
  {
   "cell_type": "markdown",
   "metadata": {
    "collapsed": true
   },
   "source": [
    "### 2. First Glance\n",
    "\n",
    "First things first, let's import the required packages, read the data, and take a first look at things such as dimensions, variable types, coding, etc. to get a sense of the dataset."
   ]
  },
  {
   "cell_type": "code",
   "execution_count": 106,
   "metadata": {
    "collapsed": true
   },
   "outputs": [],
   "source": [
    "# import packages\n",
    "import pandas  as pd\n",
    "import numpy   as np\n",
    "import seaborn as sns\n",
    "import matplotlib.pyplot as plt\n",
    "import scipy.stats"
   ]
  },
  {
   "cell_type": "code",
   "execution_count": 107,
   "metadata": {
    "collapsed": true
   },
   "outputs": [],
   "source": [
    "# read csv. as dataframe\n",
    "tit = pd.read_csv(\"titanic_train.csv\")"
   ]
  },
  {
   "cell_type": "code",
   "execution_count": 108,
   "metadata": {
    "scrolled": true
   },
   "outputs": [
    {
     "data": {
      "text/html": [
       "<div>\n",
       "<style>\n",
       "    .dataframe thead tr:only-child th {\n",
       "        text-align: right;\n",
       "    }\n",
       "\n",
       "    .dataframe thead th {\n",
       "        text-align: left;\n",
       "    }\n",
       "\n",
       "    .dataframe tbody tr th {\n",
       "        vertical-align: top;\n",
       "    }\n",
       "</style>\n",
       "<table border=\"1\" class=\"dataframe\">\n",
       "  <thead>\n",
       "    <tr style=\"text-align: right;\">\n",
       "      <th></th>\n",
       "      <th>PassengerId</th>\n",
       "      <th>Survived</th>\n",
       "      <th>Pclass</th>\n",
       "      <th>Name</th>\n",
       "      <th>Sex</th>\n",
       "      <th>Age</th>\n",
       "      <th>SibSp</th>\n",
       "      <th>Parch</th>\n",
       "      <th>Ticket</th>\n",
       "      <th>Fare</th>\n",
       "      <th>Cabin</th>\n",
       "      <th>Embarked</th>\n",
       "    </tr>\n",
       "  </thead>\n",
       "  <tbody>\n",
       "    <tr>\n",
       "      <th>0</th>\n",
       "      <td>1</td>\n",
       "      <td>0</td>\n",
       "      <td>3</td>\n",
       "      <td>Braund, Mr. Owen Harris</td>\n",
       "      <td>male</td>\n",
       "      <td>22.0</td>\n",
       "      <td>1</td>\n",
       "      <td>0</td>\n",
       "      <td>A/5 21171</td>\n",
       "      <td>7.2500</td>\n",
       "      <td>NaN</td>\n",
       "      <td>S</td>\n",
       "    </tr>\n",
       "    <tr>\n",
       "      <th>1</th>\n",
       "      <td>2</td>\n",
       "      <td>1</td>\n",
       "      <td>1</td>\n",
       "      <td>Cumings, Mrs. John Bradley (Florence Briggs Th...</td>\n",
       "      <td>female</td>\n",
       "      <td>38.0</td>\n",
       "      <td>1</td>\n",
       "      <td>0</td>\n",
       "      <td>PC 17599</td>\n",
       "      <td>71.2833</td>\n",
       "      <td>C85</td>\n",
       "      <td>C</td>\n",
       "    </tr>\n",
       "    <tr>\n",
       "      <th>2</th>\n",
       "      <td>3</td>\n",
       "      <td>1</td>\n",
       "      <td>3</td>\n",
       "      <td>Heikkinen, Miss. Laina</td>\n",
       "      <td>female</td>\n",
       "      <td>26.0</td>\n",
       "      <td>0</td>\n",
       "      <td>0</td>\n",
       "      <td>STON/O2. 3101282</td>\n",
       "      <td>7.9250</td>\n",
       "      <td>NaN</td>\n",
       "      <td>S</td>\n",
       "    </tr>\n",
       "    <tr>\n",
       "      <th>3</th>\n",
       "      <td>4</td>\n",
       "      <td>1</td>\n",
       "      <td>1</td>\n",
       "      <td>Futrelle, Mrs. Jacques Heath (Lily May Peel)</td>\n",
       "      <td>female</td>\n",
       "      <td>35.0</td>\n",
       "      <td>1</td>\n",
       "      <td>0</td>\n",
       "      <td>113803</td>\n",
       "      <td>53.1000</td>\n",
       "      <td>C123</td>\n",
       "      <td>S</td>\n",
       "    </tr>\n",
       "    <tr>\n",
       "      <th>4</th>\n",
       "      <td>5</td>\n",
       "      <td>0</td>\n",
       "      <td>3</td>\n",
       "      <td>Allen, Mr. William Henry</td>\n",
       "      <td>male</td>\n",
       "      <td>35.0</td>\n",
       "      <td>0</td>\n",
       "      <td>0</td>\n",
       "      <td>373450</td>\n",
       "      <td>8.0500</td>\n",
       "      <td>NaN</td>\n",
       "      <td>S</td>\n",
       "    </tr>\n",
       "    <tr>\n",
       "      <th>5</th>\n",
       "      <td>6</td>\n",
       "      <td>0</td>\n",
       "      <td>3</td>\n",
       "      <td>Moran, Mr. James</td>\n",
       "      <td>male</td>\n",
       "      <td>NaN</td>\n",
       "      <td>0</td>\n",
       "      <td>0</td>\n",
       "      <td>330877</td>\n",
       "      <td>8.4583</td>\n",
       "      <td>NaN</td>\n",
       "      <td>Q</td>\n",
       "    </tr>\n",
       "  </tbody>\n",
       "</table>\n",
       "</div>"
      ],
      "text/plain": [
       "   PassengerId  Survived  Pclass  \\\n",
       "0            1         0       3   \n",
       "1            2         1       1   \n",
       "2            3         1       3   \n",
       "3            4         1       1   \n",
       "4            5         0       3   \n",
       "5            6         0       3   \n",
       "\n",
       "                                                Name     Sex   Age  SibSp  \\\n",
       "0                            Braund, Mr. Owen Harris    male  22.0      1   \n",
       "1  Cumings, Mrs. John Bradley (Florence Briggs Th...  female  38.0      1   \n",
       "2                             Heikkinen, Miss. Laina  female  26.0      0   \n",
       "3       Futrelle, Mrs. Jacques Heath (Lily May Peel)  female  35.0      1   \n",
       "4                           Allen, Mr. William Henry    male  35.0      0   \n",
       "5                                   Moran, Mr. James    male   NaN      0   \n",
       "\n",
       "   Parch            Ticket     Fare Cabin Embarked  \n",
       "0      0         A/5 21171   7.2500   NaN        S  \n",
       "1      0          PC 17599  71.2833   C85        C  \n",
       "2      0  STON/O2. 3101282   7.9250   NaN        S  \n",
       "3      0            113803  53.1000  C123        S  \n",
       "4      0            373450   8.0500   NaN        S  \n",
       "5      0            330877   8.4583   NaN        Q  "
      ]
     },
     "execution_count": 108,
     "metadata": {},
     "output_type": "execute_result"
    }
   ],
   "source": [
    "# take a look at the first 5 rows\n",
    "tit.head(6)"
   ]
  },
  {
   "cell_type": "code",
   "execution_count": 109,
   "metadata": {},
   "outputs": [
    {
     "name": "stdout",
     "output_type": "stream",
     "text": [
      "<class 'pandas.core.frame.DataFrame'>\n",
      "RangeIndex: 891 entries, 0 to 890\n",
      "Data columns (total 12 columns):\n",
      "PassengerId    891 non-null int64\n",
      "Survived       891 non-null int64\n",
      "Pclass         891 non-null int64\n",
      "Name           891 non-null object\n",
      "Sex            891 non-null object\n",
      "Age            714 non-null float64\n",
      "SibSp          891 non-null int64\n",
      "Parch          891 non-null int64\n",
      "Ticket         891 non-null object\n",
      "Fare           891 non-null float64\n",
      "Cabin          204 non-null object\n",
      "Embarked       889 non-null object\n",
      "dtypes: float64(2), int64(5), object(5)\n",
      "memory usage: 83.6+ KB\n"
     ]
    }
   ],
   "source": [
    "# take a look at variable types and dimensions\n",
    "tit.info()"
   ]
  },
  {
   "cell_type": "markdown",
   "metadata": {},
   "source": [
    "Next, I take a quick look at the distribution of each variable. Describe() is a pretty neat function in this regard. For getting meaningful results for factor variables, transforming them to class category is required, though. "
   ]
  },
  {
   "cell_type": "code",
   "execution_count": 110,
   "metadata": {
    "collapsed": true
   },
   "outputs": [],
   "source": [
    "# drop useless variables\n",
    "tit = tit.drop([\"PassengerId\", \"Ticket\"], 1)\n",
    "\n",
    "# transform to factor variables \n",
    "for col in [\"Survived\", \"Pclass\", \"Sex\", \"Embarked\"]:\n",
    "    tit[col] = tit[col].astype(\"category\")\n",
    "    \n",
    "# transform levles of survived \n",
    "# tit['Survived'].replace({0:'Died', 1:'Survived'}, inplace = True)\n",
    "# issues with plots later on thus just change plots visuals directly"
   ]
  },
  {
   "cell_type": "code",
   "execution_count": 111,
   "metadata": {
    "scrolled": true
   },
   "outputs": [
    {
     "data": {
      "text/html": [
       "<div>\n",
       "<style>\n",
       "    .dataframe thead tr:only-child th {\n",
       "        text-align: right;\n",
       "    }\n",
       "\n",
       "    .dataframe thead th {\n",
       "        text-align: left;\n",
       "    }\n",
       "\n",
       "    .dataframe tbody tr th {\n",
       "        vertical-align: top;\n",
       "    }\n",
       "</style>\n",
       "<table border=\"1\" class=\"dataframe\">\n",
       "  <thead>\n",
       "    <tr style=\"text-align: right;\">\n",
       "      <th></th>\n",
       "      <th>Age</th>\n",
       "      <th>SibSp</th>\n",
       "      <th>Parch</th>\n",
       "      <th>Fare</th>\n",
       "    </tr>\n",
       "  </thead>\n",
       "  <tbody>\n",
       "    <tr>\n",
       "      <th>count</th>\n",
       "      <td>714.000000</td>\n",
       "      <td>891.000000</td>\n",
       "      <td>891.000000</td>\n",
       "      <td>891.000000</td>\n",
       "    </tr>\n",
       "    <tr>\n",
       "      <th>mean</th>\n",
       "      <td>29.699118</td>\n",
       "      <td>0.523008</td>\n",
       "      <td>0.381594</td>\n",
       "      <td>32.204208</td>\n",
       "    </tr>\n",
       "    <tr>\n",
       "      <th>std</th>\n",
       "      <td>14.526497</td>\n",
       "      <td>1.102743</td>\n",
       "      <td>0.806057</td>\n",
       "      <td>49.693429</td>\n",
       "    </tr>\n",
       "    <tr>\n",
       "      <th>min</th>\n",
       "      <td>0.420000</td>\n",
       "      <td>0.000000</td>\n",
       "      <td>0.000000</td>\n",
       "      <td>0.000000</td>\n",
       "    </tr>\n",
       "    <tr>\n",
       "      <th>25%</th>\n",
       "      <td>20.125000</td>\n",
       "      <td>0.000000</td>\n",
       "      <td>0.000000</td>\n",
       "      <td>7.910400</td>\n",
       "    </tr>\n",
       "    <tr>\n",
       "      <th>50%</th>\n",
       "      <td>28.000000</td>\n",
       "      <td>0.000000</td>\n",
       "      <td>0.000000</td>\n",
       "      <td>14.454200</td>\n",
       "    </tr>\n",
       "    <tr>\n",
       "      <th>75%</th>\n",
       "      <td>38.000000</td>\n",
       "      <td>1.000000</td>\n",
       "      <td>0.000000</td>\n",
       "      <td>31.000000</td>\n",
       "    </tr>\n",
       "    <tr>\n",
       "      <th>max</th>\n",
       "      <td>80.000000</td>\n",
       "      <td>8.000000</td>\n",
       "      <td>6.000000</td>\n",
       "      <td>512.329200</td>\n",
       "    </tr>\n",
       "  </tbody>\n",
       "</table>\n",
       "</div>"
      ],
      "text/plain": [
       "              Age       SibSp       Parch        Fare\n",
       "count  714.000000  891.000000  891.000000  891.000000\n",
       "mean    29.699118    0.523008    0.381594   32.204208\n",
       "std     14.526497    1.102743    0.806057   49.693429\n",
       "min      0.420000    0.000000    0.000000    0.000000\n",
       "25%     20.125000    0.000000    0.000000    7.910400\n",
       "50%     28.000000    0.000000    0.000000   14.454200\n",
       "75%     38.000000    1.000000    0.000000   31.000000\n",
       "max     80.000000    8.000000    6.000000  512.329200"
      ]
     },
     "execution_count": 111,
     "metadata": {},
     "output_type": "execute_result"
    }
   ],
   "source": [
    "# summary of numeric variables\n",
    "tit.describe(include = [np.number])"
   ]
  },
  {
   "cell_type": "code",
   "execution_count": 112,
   "metadata": {
    "scrolled": false
   },
   "outputs": [
    {
     "data": {
      "text/html": [
       "<div>\n",
       "<style>\n",
       "    .dataframe thead tr:only-child th {\n",
       "        text-align: right;\n",
       "    }\n",
       "\n",
       "    .dataframe thead th {\n",
       "        text-align: left;\n",
       "    }\n",
       "\n",
       "    .dataframe tbody tr th {\n",
       "        vertical-align: top;\n",
       "    }\n",
       "</style>\n",
       "<table border=\"1\" class=\"dataframe\">\n",
       "  <thead>\n",
       "    <tr style=\"text-align: right;\">\n",
       "      <th></th>\n",
       "      <th>Survived</th>\n",
       "      <th>Pclass</th>\n",
       "      <th>Name</th>\n",
       "      <th>Sex</th>\n",
       "      <th>Cabin</th>\n",
       "      <th>Embarked</th>\n",
       "    </tr>\n",
       "  </thead>\n",
       "  <tbody>\n",
       "    <tr>\n",
       "      <th>count</th>\n",
       "      <td>891</td>\n",
       "      <td>891</td>\n",
       "      <td>891</td>\n",
       "      <td>891</td>\n",
       "      <td>204</td>\n",
       "      <td>889</td>\n",
       "    </tr>\n",
       "    <tr>\n",
       "      <th>unique</th>\n",
       "      <td>2</td>\n",
       "      <td>3</td>\n",
       "      <td>891</td>\n",
       "      <td>2</td>\n",
       "      <td>147</td>\n",
       "      <td>3</td>\n",
       "    </tr>\n",
       "    <tr>\n",
       "      <th>top</th>\n",
       "      <td>0</td>\n",
       "      <td>3</td>\n",
       "      <td>Salonen, Mr. Johan Werner</td>\n",
       "      <td>male</td>\n",
       "      <td>B96 B98</td>\n",
       "      <td>S</td>\n",
       "    </tr>\n",
       "    <tr>\n",
       "      <th>freq</th>\n",
       "      <td>549</td>\n",
       "      <td>491</td>\n",
       "      <td>1</td>\n",
       "      <td>577</td>\n",
       "      <td>4</td>\n",
       "      <td>644</td>\n",
       "    </tr>\n",
       "  </tbody>\n",
       "</table>\n",
       "</div>"
      ],
      "text/plain": [
       "        Survived  Pclass                       Name   Sex    Cabin Embarked\n",
       "count        891     891                        891   891      204      889\n",
       "unique         2       3                        891     2      147        3\n",
       "top            0       3  Salonen, Mr. Johan Werner  male  B96 B98        S\n",
       "freq         549     491                          1   577        4      644"
      ]
     },
     "execution_count": 112,
     "metadata": {},
     "output_type": "execute_result"
    }
   ],
   "source": [
    "# summary of non-numeric variables \n",
    "tit.describe(exclude = [np.number])"
   ]
  },
  {
   "cell_type": "markdown",
   "metadata": {},
   "source": [
    "### 3. Missing Values\n",
    "\n",
    "Let’s take a look if missing values are much of an issue. As seen below, there are quite a few missing observations for age. Besides, cabin becomes pretty much useless due to the high number of NAs which is a shame because the deck on which people stayed probably was an influential factor. Lastly, embarked has also two missing values. "
   ]
  },
  {
   "cell_type": "code",
   "execution_count": 113,
   "metadata": {
    "scrolled": true
   },
   "outputs": [
    {
     "data": {
      "text/plain": [
       "Survived      0\n",
       "Pclass        0\n",
       "Name          0\n",
       "Sex           0\n",
       "Age         177\n",
       "SibSp         0\n",
       "Parch         0\n",
       "Fare          0\n",
       "Cabin       687\n",
       "Embarked      2\n",
       "dtype: int64"
      ]
     },
     "execution_count": 113,
     "metadata": {},
     "output_type": "execute_result"
    }
   ],
   "source": [
    "# check NAs\n",
    "tit.isnull().sum()"
   ]
  },
  {
   "cell_type": "markdown",
   "metadata": {},
   "source": [
    "I won't do any imputation for \"cabin\" because there simply are to many NAs to get reliable values to my mind. For the two missing observations of \"embarked\" we probably can figure the right port out, assuming that the fare pretty much only differs across port of embarkation and booked class. First, let's take a closer look at the two missing observations. "
   ]
  },
  {
   "cell_type": "code",
   "execution_count": 114,
   "metadata": {},
   "outputs": [
    {
     "data": {
      "text/html": [
       "<div>\n",
       "<style>\n",
       "    .dataframe thead tr:only-child th {\n",
       "        text-align: right;\n",
       "    }\n",
       "\n",
       "    .dataframe thead th {\n",
       "        text-align: left;\n",
       "    }\n",
       "\n",
       "    .dataframe tbody tr th {\n",
       "        vertical-align: top;\n",
       "    }\n",
       "</style>\n",
       "<table border=\"1\" class=\"dataframe\">\n",
       "  <thead>\n",
       "    <tr style=\"text-align: right;\">\n",
       "      <th></th>\n",
       "      <th>Survived</th>\n",
       "      <th>Pclass</th>\n",
       "      <th>Name</th>\n",
       "      <th>Sex</th>\n",
       "      <th>Age</th>\n",
       "      <th>SibSp</th>\n",
       "      <th>Parch</th>\n",
       "      <th>Fare</th>\n",
       "      <th>Cabin</th>\n",
       "      <th>Embarked</th>\n",
       "    </tr>\n",
       "  </thead>\n",
       "  <tbody>\n",
       "    <tr>\n",
       "      <th>61</th>\n",
       "      <td>1</td>\n",
       "      <td>1</td>\n",
       "      <td>Icard, Miss. Amelie</td>\n",
       "      <td>female</td>\n",
       "      <td>38.0</td>\n",
       "      <td>0</td>\n",
       "      <td>0</td>\n",
       "      <td>80.0</td>\n",
       "      <td>B28</td>\n",
       "      <td>NaN</td>\n",
       "    </tr>\n",
       "    <tr>\n",
       "      <th>829</th>\n",
       "      <td>1</td>\n",
       "      <td>1</td>\n",
       "      <td>Stone, Mrs. George Nelson (Martha Evelyn)</td>\n",
       "      <td>female</td>\n",
       "      <td>62.0</td>\n",
       "      <td>0</td>\n",
       "      <td>0</td>\n",
       "      <td>80.0</td>\n",
       "      <td>B28</td>\n",
       "      <td>NaN</td>\n",
       "    </tr>\n",
       "  </tbody>\n",
       "</table>\n",
       "</div>"
      ],
      "text/plain": [
       "    Survived Pclass                                       Name     Sex   Age  \\\n",
       "61         1      1                        Icard, Miss. Amelie  female  38.0   \n",
       "829        1      1  Stone, Mrs. George Nelson (Martha Evelyn)  female  62.0   \n",
       "\n",
       "     SibSp  Parch  Fare Cabin Embarked  \n",
       "61       0      0  80.0   B28      NaN  \n",
       "829      0      0  80.0   B28      NaN  "
      ]
     },
     "execution_count": 114,
     "metadata": {},
     "output_type": "execute_result"
    }
   ],
   "source": [
    "# closer look at embark NAs\n",
    "tit[tit.Embarked.isnull()]"
   ]
  },
  {
   "cell_type": "markdown",
   "metadata": {},
   "source": [
    "As seen above, we do know the payed fare as well as the booked class. Thus, all there is left to do is checking the median fares for first class passengers grouped by port of embarkation. I choose the median instead of the mean due to the skeewed distribution of fare. So we see that Cherbourg matches pretty well which I therefore use as replacement."
   ]
  },
  {
   "cell_type": "code",
   "execution_count": 115,
   "metadata": {},
   "outputs": [
    {
     "data": {
      "text/html": [
       "<div>\n",
       "<style>\n",
       "    .dataframe thead tr:only-child th {\n",
       "        text-align: right;\n",
       "    }\n",
       "\n",
       "    .dataframe thead th {\n",
       "        text-align: left;\n",
       "    }\n",
       "\n",
       "    .dataframe tbody tr th {\n",
       "        vertical-align: top;\n",
       "    }\n",
       "</style>\n",
       "<table border=\"1\" class=\"dataframe\">\n",
       "  <thead>\n",
       "    <tr style=\"text-align: right;\">\n",
       "      <th></th>\n",
       "      <th>Fare</th>\n",
       "    </tr>\n",
       "    <tr>\n",
       "      <th>Embarked</th>\n",
       "      <th></th>\n",
       "    </tr>\n",
       "  </thead>\n",
       "  <tbody>\n",
       "    <tr>\n",
       "      <th>C</th>\n",
       "      <td>78.2667</td>\n",
       "    </tr>\n",
       "    <tr>\n",
       "      <th>Q</th>\n",
       "      <td>90.0000</td>\n",
       "    </tr>\n",
       "    <tr>\n",
       "      <th>S</th>\n",
       "      <td>52.0000</td>\n",
       "    </tr>\n",
       "  </tbody>\n",
       "</table>\n",
       "</div>"
      ],
      "text/plain": [
       "             Fare\n",
       "Embarked         \n",
       "C         78.2667\n",
       "Q         90.0000\n",
       "S         52.0000"
      ]
     },
     "execution_count": 115,
     "metadata": {},
     "output_type": "execute_result"
    }
   ],
   "source": [
    "# filter class 1\n",
    "tit_c1 = tit.query('Pclass == 1')\n",
    "# get median grouped by embarked\n",
    "tit_c1.groupby('Embarked').agg({'Fare': 'median'})"
   ]
  },
  {
   "cell_type": "code",
   "execution_count": 116,
   "metadata": {
    "collapsed": true,
    "scrolled": true
   },
   "outputs": [],
   "source": [
    "# replace with C\n",
    "tit = tit.set_value(tit.Embarked.isnull(), 'Embarked', 'C')"
   ]
  },
  {
   "cell_type": "markdown",
   "metadata": {},
   "source": [
    "Lastly, let's take care of age. The easiest approach would be to simply replace all missing values with the mean of age. A more appropiate way is to actually predict the missing values based on the values of the other variables. I planned to do the latter using KNN. R provides the \"mice\" package and \"fancyimpute\" seems to be Python's equivalent to do the job. However, I was not able to install the library because apparently Anaconda was not able to \"find a version that satisfies the requirements\". Therefore let's take a third approach, that is I used distinct passenger groups and calculate seperate age medians."
   ]
  },
  {
   "cell_type": "code",
   "execution_count": 117,
   "metadata": {},
   "outputs": [],
   "source": [
    "# replace NAs of age with mean\n",
    "# tit['Age'].fillna((tit['Age'].mean()), inplace = True)\n",
    "\n",
    "# replace with median by sex and class\n",
    "tit.loc[:, \"Age\"] = tit.groupby([\"Sex\",\"Pclass\"]).transform(lambda x: x.fillna(x.median()))"
   ]
  },
  {
   "cell_type": "markdown",
   "metadata": {},
   "source": [
    "### 4. Creating New Variables\n",
    "\n",
    "While there already are quiet a few interesting variables, I do include three additional ones. Namely, the title - mainly measuring if women were married, the size of the family - which is a clearer version of \"parch\" and \"sibsp\", and an improved version of \"sex\" that adds the level children to the provided gender variable. Those variables seem to be pretty standard on Kaggle."
   ]
  },
  {
   "cell_type": "code",
   "execution_count": 118,
   "metadata": {
    "collapsed": true
   },
   "outputs": [],
   "source": [
    "# extract title from name\n",
    "tit[\"Title\"] = tit[\"Name\"].str.split(',', 1, expand = True)[1].str.split('.', 1, expand = True)[0]\n",
    "tit['Title'] = tit['Title'].astype(\"category\")"
   ]
  },
  {
   "cell_type": "code",
   "execution_count": 119,
   "metadata": {
    "collapsed": true
   },
   "outputs": [],
   "source": [
    "# transform to 4-level factor\n",
    "tit['Title'] = np.where(tit[\"Title\"].str.contains(\"Miss\"), \"Miss\",\n",
    "                np.where(tit[\"Title\"].str.contains(\"Mrs\"), \"Mrs\",\n",
    "                 np.where(tit[\"Title\"].str.contains(\"Mr\"), \"Mr\", \"rare\")))"
   ]
  },
  {
   "cell_type": "code",
   "execution_count": 137,
   "metadata": {},
   "outputs": [],
   "source": [
    "# create family size\n",
    "tit[\"Fam_size\"] = tit[\"SibSp\"] + tit[\"Parch\"] + 1\n",
    "\n",
    "# transform to 4-level factor\n",
    "tit[\"Fam_size\"] = pd.cut(tit[\"Fam_size\"], bins=[0,1,3,5,15], labels=[\"Single\", \"Small Family\", \"Medium Family\", \"Large Family\"])\n",
    "tit[\"Fam_size\"] = tit[\"Fam_size\"].astype(\"category\")\n",
    "\n",
    "# family size 2\n",
    "tit[\"Fam_size2\"] = tit[\"SibSp\"] + tit[\"Parch\"] + 1\n",
    "tit[\"Fam_size2\"] = pd.cut(tit[\"Fam_size2\"], bins=[0,1,15], labels=[\"Single\", \"Family\"])\n",
    "tit[\"Fam_size2\"] = tit[\"Fam_size2\"].astype(\"category\")"
   ]
  },
  {
   "cell_type": "code",
   "execution_count": 121,
   "metadata": {
    "collapsed": true
   },
   "outputs": [],
   "source": [
    "# add child to gender variable\n",
    "tit[\"Who\"] = np.where(tit[\"Age\"] < 17, \"Child\",\n",
    "               np.where(tit[\"Sex\"].str.contains(\"female\"), \"Women\", \"Man\"))\n",
    "tit[\"Who\"] = tit[\"Who\"].astype(\"category\")"
   ]
  },
  {
   "cell_type": "code",
   "execution_count": 150,
   "metadata": {
    "collapsed": true
   },
   "outputs": [],
   "source": [
    "# factorize age variable\n",
    "tit[\"age_group\"] = pd.cut(tit[\"Age\"], bins =[0, 12, 18, 60, np.inf], labels =[\"child\", \"teenager\", \"adult\", \"elder\"])\n",
    "tit[\"age_group\"] = tit[\"age_group\"].astype(\"category\")"
   ]
  },
  {
   "cell_type": "markdown",
   "metadata": {},
   "source": [
    "### 5. Plotting - Who Took the Trip?\n",
    "\n",
    "Before I tackle the question who survived let's take a quick look at Titanic's passengers in general. In short, we see that most of them were male adults who traveled alone in the third class."
   ]
  },
  {
   "cell_type": "code",
   "execution_count": 151,
   "metadata": {},
   "outputs": [
    {
     "data": {
      "image/png": "[encoded data removed]",
      "text/plain": [
       "<matplotlib.figure.Figure at 0xbba5320>"
      ]
     },
     "metadata": {},
     "output_type": "display_data"
    }
   ],
   "source": [
    "f, ax = plt.subplots(1,5,figsize = (20,6))\n",
    "sns.countplot(tit['Survived'], ax = ax[0], color = \"steelblue\")\n",
    "sns.countplot(tit['Sex'], ax = ax[1], color = \"steelblue\")\n",
    "sns.countplot(tit['Pclass'], ax = ax[2], color = \"steelblue\")\n",
    "sns.countplot(tit['age_group'], ax = ax[3], color = \"steelblue\")\n",
    "sns.countplot(tit['Fam_size2'], ax = ax[4], color = \"steelblue\")\n",
    "plt.show()"
   ]
  },
  {
   "cell_type": "markdown",
   "metadata": {},
   "source": [
    "### 6. Plotting - Who Survived?"
   ]
  },
  {
   "cell_type": "markdown",
   "metadata": {},
   "source": [
    "As shown below one may uses tables to answer the question who survived. Here, for example one clearly sees that unsurprisingly **much more lower class passenger died then high class passengers**. "
   ]
  },
  {
   "cell_type": "code",
   "execution_count": 140,
   "metadata": {},
   "outputs": [
    {
     "data": {
      "text/html": [
       "<div>\n",
       "<style>\n",
       "    .dataframe thead tr:only-child th {\n",
       "        text-align: right;\n",
       "    }\n",
       "\n",
       "    .dataframe thead th {\n",
       "        text-align: left;\n",
       "    }\n",
       "\n",
       "    .dataframe tbody tr th {\n",
       "        vertical-align: top;\n",
       "    }\n",
       "</style>\n",
       "<table border=\"1\" class=\"dataframe\">\n",
       "  <thead>\n",
       "    <tr style=\"text-align: right;\">\n",
       "      <th>Pclass</th>\n",
       "      <th>1</th>\n",
       "      <th>2</th>\n",
       "      <th>3</th>\n",
       "    </tr>\n",
       "    <tr>\n",
       "      <th>Survived</th>\n",
       "      <th></th>\n",
       "      <th></th>\n",
       "      <th></th>\n",
       "    </tr>\n",
       "  </thead>\n",
       "  <tbody>\n",
       "    <tr>\n",
       "      <th>0</th>\n",
       "      <td>0.37037</td>\n",
       "      <td>0.527174</td>\n",
       "      <td>0.757637</td>\n",
       "    </tr>\n",
       "    <tr>\n",
       "      <th>1</th>\n",
       "      <td>0.62963</td>\n",
       "      <td>0.472826</td>\n",
       "      <td>0.242363</td>\n",
       "    </tr>\n",
       "  </tbody>\n",
       "</table>\n",
       "</div>"
      ],
      "text/plain": [
       "Pclass          1         2         3\n",
       "Survived                             \n",
       "0         0.37037  0.527174  0.757637\n",
       "1         0.62963  0.472826  0.242363"
      ]
     },
     "execution_count": 140,
     "metadata": {},
     "output_type": "execute_result"
    }
   ],
   "source": [
    "# example crosstab with percentages \n",
    "pd.crosstab(tit.Survived, tit.Pclass, normalize= 1)"
   ]
  },
  {
   "cell_type": "markdown",
   "metadata": {},
   "source": [
    "The first thing that comes to my mind when thinking about the Titanic is the good old principle **\"women and children first\"** which according to the plot below seems to **holds true**. More then 80 percent of all men died. On the contrary, about 70 percent of the women and 55 percent of the children survived the sinking."
   ]
  },
  {
   "cell_type": "code",
   "execution_count": 125,
   "metadata": {
    "scrolled": false
   },
   "outputs": [
    {
     "data": {
      "image/png": "[encoded data removed]",
      "text/plain": [
       "<matplotlib.figure.Figure at 0xd952e10>"
      ]
     },
     "metadata": {},
     "output_type": "display_data"
    }
   ],
   "source": [
    "# apparently I need to transform it back to integer to use seaborn properly.\n",
    "tit[\"Survived\"] = tit[\"Survived\"].astype(\"int\")\n",
    " \n",
    "p1 = sns.barplot(x = \"Who\", \n",
    "                 y = \"Survived\", \n",
    "                 data = tit, \n",
    "                 color= \"steelblue\",\n",
    "                 ci = None)\n",
    "p1.set_xlabel('')    \n",
    "p1.set_ylabel('Survival Rate in Percent')\n",
    "p1.set_title('Survival rate by child, man, and women')\n",
    "sns.plt.show()"
   ]
  },
  {
   "cell_type": "markdown",
   "metadata": {},
   "source": [
    "However, if ones take a closer look we can see a more detailed pattern. Across all three classes it still holds true that women and children had better chances of survival then men, though the proportions differ somewhat across classes. More precicely, we see that **the survival rate between women and men differs the most in the second class**. Besides, the plot shows that **third-class women and children were much more likely to die then their upper-class counterparts**. Put differently, we may want to adjust the priciple a bit and just call it women and children first especially if they are wealthy."
   ]
  },
  {
   "cell_type": "code",
   "execution_count": 126,
   "metadata": {
    "scrolled": false
   },
   "outputs": [
    {
     "data": {
      "image/png": "[encoded data removed]",
      "text/plain": [
       "<matplotlib.figure.Figure at 0xc310828>"
      ]
     },
     "metadata": {},
     "output_type": "display_data"
    }
   ],
   "source": [
    "p2 = sns.barplot(x = \"Who\", \n",
    "                 y = \"Survived\", \n",
    "                 hue = \"Pclass\", \n",
    "                 data = tit,\n",
    "                 ci = None)\n",
    "p2.set_xlabel('')    \n",
    "p2.set_ylabel('Survival Rate in Percent')\n",
    "p2.set_title('Survival rate by child, man, and women (grouped by class)')\n",
    "sns.plt.show()"
   ]
  },
  {
   "cell_type": "markdown",
   "metadata": {
    "collapsed": true
   },
   "source": [
    "Next, how about our newly cretaed variable family size? Where you better of as lone wolf or was the pack more likely to survive?"
   ]
  },
  {
   "cell_type": "code",
   "execution_count": 127,
   "metadata": {},
   "outputs": [
    {
     "data": {
      "image/png": "[encoded data removed]",
      "text/plain": [
       "<matplotlib.figure.Figure at 0xdd0fdd8>"
      ]
     },
     "metadata": {},
     "output_type": "display_data"
    }
   ],
   "source": [
    "p3 = sns.barplot(x = \"Fam_size\", \n",
    "                 y = \"Survived\", \n",
    "                 data = tit, \n",
    "                 color= \"steelblue\", \n",
    "                 order = [\"Single\", \"Small Family\", \"Medium Family\", \"Large Family\"],\n",
    "                 ci = None)\n",
    "p3.set_xlabel('')    \n",
    "p3.set_ylabel('Survival Rate in Percent')\n",
    "p3.set_title('Survival rate by family size')\n",
    "sns.plt.show()"
   ]
  },
  {
   "cell_type": "markdown",
   "metadata": {},
   "source": [
    "Seems that **singles and large families did struggle to survive the catastrophe**. Why is that though? I can think of a couple of reason for this pattern. First, people traveling alone may be predominantly men and regarding large families, I picture dozens of poor Irish extended families in the third class. So let's check this out then."
   ]
  },
  {
   "cell_type": "code",
   "execution_count": 128,
   "metadata": {},
   "outputs": [
    {
     "data": {
      "text/html": [
       "<div>\n",
       "<style>\n",
       "    .dataframe thead tr:only-child th {\n",
       "        text-align: right;\n",
       "    }\n",
       "\n",
       "    .dataframe thead th {\n",
       "        text-align: left;\n",
       "    }\n",
       "\n",
       "    .dataframe tbody tr th {\n",
       "        vertical-align: top;\n",
       "    }\n",
       "</style>\n",
       "<table border=\"1\" class=\"dataframe\">\n",
       "  <thead>\n",
       "    <tr style=\"text-align: right;\">\n",
       "      <th>col_0</th>\n",
       "      <th>count</th>\n",
       "    </tr>\n",
       "    <tr>\n",
       "      <th>Who</th>\n",
       "      <th></th>\n",
       "    </tr>\n",
       "  </thead>\n",
       "  <tbody>\n",
       "    <tr>\n",
       "      <th>Child</th>\n",
       "      <td>16</td>\n",
       "    </tr>\n",
       "    <tr>\n",
       "      <th>Man</th>\n",
       "      <td>403</td>\n",
       "    </tr>\n",
       "    <tr>\n",
       "      <th>Women</th>\n",
       "      <td>118</td>\n",
       "    </tr>\n",
       "  </tbody>\n",
       "</table>\n",
       "</div>"
      ],
      "text/plain": [
       "col_0  count\n",
       "Who         \n",
       "Child     16\n",
       "Man      403\n",
       "Women    118"
      ]
     },
     "execution_count": 128,
     "metadata": {},
     "output_type": "execute_result"
    }
   ],
   "source": [
    "# creaty dummy if family size is single\n",
    "tit[\"sdummy\"] = tit[\"Fam_size\"].str.contains(\"Single\")\n",
    "# filter tit \n",
    "tit_temp = tit.query('sdummy == True')\n",
    "# check distribution\n",
    "pd.crosstab(index = tit_temp.Who, columns =\"count\")   "
   ]
  },
  {
   "cell_type": "code",
   "execution_count": 129,
   "metadata": {},
   "outputs": [
    {
     "data": {
      "text/html": [
       "<div>\n",
       "<style>\n",
       "    .dataframe thead tr:only-child th {\n",
       "        text-align: right;\n",
       "    }\n",
       "\n",
       "    .dataframe thead th {\n",
       "        text-align: left;\n",
       "    }\n",
       "\n",
       "    .dataframe tbody tr th {\n",
       "        vertical-align: top;\n",
       "    }\n",
       "</style>\n",
       "<table border=\"1\" class=\"dataframe\">\n",
       "  <thead>\n",
       "    <tr style=\"text-align: right;\">\n",
       "      <th>col_0</th>\n",
       "      <th>count</th>\n",
       "    </tr>\n",
       "    <tr>\n",
       "      <th>Pclass</th>\n",
       "      <th></th>\n",
       "    </tr>\n",
       "  </thead>\n",
       "  <tbody>\n",
       "    <tr>\n",
       "      <th>1</th>\n",
       "      <td>4</td>\n",
       "    </tr>\n",
       "    <tr>\n",
       "      <th>2</th>\n",
       "      <td>1</td>\n",
       "    </tr>\n",
       "    <tr>\n",
       "      <th>3</th>\n",
       "      <td>42</td>\n",
       "    </tr>\n",
       "  </tbody>\n",
       "</table>\n",
       "</div>"
      ],
      "text/plain": [
       "col_0   count\n",
       "Pclass       \n",
       "1           4\n",
       "2           1\n",
       "3          42"
      ]
     },
     "execution_count": 129,
     "metadata": {},
     "output_type": "execute_result"
    }
   ],
   "source": [
    "# creaty dummy if family size is large\n",
    "tit[\"ldummy\"] = tit[\"Fam_size\"].str.contains(\"Large\")\n",
    "tit[\"ldummy\"].describe()\n",
    "# filter tit \n",
    "tit_temp = tit.query('ldummy == True')\n",
    "# check distribution\n",
    "pd.crosstab(index = tit_temp.Pclass, columns = \"count\")   "
   ]
  },
  {
   "cell_type": "markdown",
   "metadata": {},
   "source": [
    "It indeed does seem that my above stated hunches are true since about 75 percent of the singles are men and almost all large families are booked in the third class. Ok, let's investigate the role of the fare now. Fare probably captures pretty much the same information as passenger class, though it gives me the option to mix plot types up a bit. As seen below, unsurprisingly, **people who survived did pay on average more for their tickets**."
   ]
  },
  {
   "cell_type": "code",
   "execution_count": 130,
   "metadata": {},
   "outputs": [
    {
     "data": {
      "image/png": "[encoded data removed]",
      "text/plain": [
       "<matplotlib.figure.Figure at 0xd57ada0>"
      ]
     },
     "metadata": {},
     "output_type": "display_data"
    }
   ],
   "source": [
    "# tranform due to skewness \n",
    "tit['Fare_log'] = np.sqrt(tit[\"Fare\"])\n",
    "\n",
    "p4 = sns.boxplot(x = \"Survived\", \n",
    "                 y = \"Fare_log\", \n",
    "                 data = tit,\n",
    "                 color= \"steelblue\")\n",
    "p4.set_ylabel(\"Fare (sqrt)\")\n",
    "p4.set_xlabel(\"\")\n",
    "p4.set_title(\"Survival rate by payed fare\")\n",
    "p4.set(xticklabels=[\"Died\", \"Survived\"])\n",
    "\n",
    "sns.plt.show()"
   ]
  },
  {
   "cell_type": "markdown",
   "metadata": {},
   "source": [
    "Lastly, let's explore the influence of the passengers's age. An overlapping density plot might be helpfull to illustrate potential patterns. As indicated below we see that while **people up to the age of about 11 were more likely to survive, passenger aged between 15 and 30 had rather bad chances**. Note, that I found the code snippet on Kaggle because I had some issues getting a nice looking overlaying density plot with seaborn at the start. Also note, that the plot is biased due to the bad imputation beforehand...Still looking for a way to implement KNN imputation in Python."
   ]
  },
  {
   "cell_type": "code",
   "execution_count": 131,
   "metadata": {},
   "outputs": [
    {
     "data": {
      "image/png": "[encoded data removed]",
      "text/plain": [
       "<matplotlib.figure.Figure at 0xc3107f0>"
      ]
     },
     "metadata": {},
     "output_type": "display_data"
    }
   ],
   "source": [
    "facet = sns.FacetGrid(tit, hue=\"Survived\",aspect=3)\n",
    "facet.map(sns.kdeplot, 'Age',shade = True)\n",
    "facet.set(xlim=(0, tit['Age'].max()))\n",
    "facet.add_legend()\n",
    "sns.plt.show()"
   ]
  },
  {
   "cell_type": "markdown",
   "metadata": {},
   "source": [
    "Another appraoch might be to group passengers into several age related categories. The following code does this job using the cut() function again."
   ]
  },
  {
   "cell_type": "code",
   "execution_count": 132,
   "metadata": {
    "scrolled": true
   },
   "outputs": [
    {
     "data": {
      "image/png": "[encoded data removed]",
      "text/plain": [
       "<matplotlib.figure.Figure at 0xdcb6f60>"
      ]
     },
     "metadata": {},
     "output_type": "display_data"
    }
   ],
   "source": [
    "tit[\"age_group\"] = pd.cut(tit[\"Age\"], bins =[0, 12, 16, 30, 60, np.inf], labels =[\"child\", \"teenager\", \"young adult\", \"adult\", \"elder\"])\n",
    "tit['age_group'] = tit['age_group'].astype(\"category\")\n",
    "\n",
    "p5 = sns.barplot(y = \"Survived\", \n",
    "                 x = \"age_group\", \n",
    "                 data = tit,\n",
    "                 color= \"steelblue\",\n",
    "                 order = [\"child\", \"teenager\", \"young adult\", \"adult\", \"elder\"],\n",
    "                 ci = None)\n",
    "p5.set_xlabel('')    \n",
    "p5.set_ylabel('Survival Rate in Percent')\n",
    "sns.plt.show()"
   ]
  },
  {
   "cell_type": "markdown",
   "metadata": {},
   "source": [
    "### 7. Bivariate Statistical Tests - Who Survived?"
   ]
  },
  {
   "cell_type": "markdown",
   "metadata": {},
   "source": [
    "Finally, let's check whether some groups had a statistically significant higher survival rate than others. This takes the analysis away from the purely explorative level and adds some simple hypothesis testing. In order to do so we need the Pearson's chi-squared test (or Fischers if some levels are really scare). This test basically evaluates how likely it is that any observed difference between two categorial variables arose by chance. Put differently, we test if \"Survived\" and a second variable such as \"Pclass\" are independent, that is, if the probability distribution of \"Survived\" is not affected by the presence of \"Pclass\".\n",
    "\n",
    "Since this is rather illustrative I run only tests for the three variables \"Pclass\", \"Sex\", and \"age_group\". As the p-value is  for all three tests much smaller than the .05 significance level, I do reject the null hypothesis that class/sex/age are independent of the survival of a passenger. \n",
    "\n",
    "Note that the tests so far only tells us that the variables are related. It does not tell us how strongly they are related or if the relation is spurious. "
   ]
  },
  {
   "cell_type": "code",
   "execution_count": 133,
   "metadata": {
    "scrolled": true
   },
   "outputs": [
    {
     "name": "stdout",
     "output_type": "stream",
     "text": [
      "Test Statistic: 102.88898875696056\n",
      "p-value: 4.549251711298793e-23\n",
      "Degrees of Freedom: 2\n",
      "\n"
     ]
    }
   ],
   "source": [
    "# create cross-tab survived and passenger class\n",
    "spc = pd.crosstab(tit.Survived, tit.Pclass)\n",
    "# get chi2, degrees of freedom, p-value, and expected\n",
    "chi2, p, ddof, expected = scipy.stats.chi2_contingency( spc  )\n",
    "# create empty output pattern\n",
    "msg = \"Test Statistic: {}\\np-value: {}\\nDegrees of Freedom: {}\\n\"\n",
    "# print values in output pattern\n",
    "print( msg.format( chi2, p, ddof ) )"
   ]
  },
  {
   "cell_type": "code",
   "execution_count": 134,
   "metadata": {},
   "outputs": [
    {
     "name": "stdout",
     "output_type": "stream",
     "text": [
      "Test Statistic: 23.30121021360333\n",
      "p-value: 0.0001102345644704154\n",
      "Degrees of Freedom: 4\n",
      "\n"
     ]
    }
   ],
   "source": [
    "# create cross-tab survived and passenger age group\n",
    "sag = pd.crosstab(tit.Survived, tit.age_group)\n",
    "# get chi2, degrees of freedom, p-value, and expected\n",
    "chi2, p, ddof, expected = scipy.stats.chi2_contingency( sag  )\n",
    "# create empty output pattern\n",
    "msg = \"Test Statistic: {}\\np-value: {}\\nDegrees of Freedom: {}\\n\"\n",
    "# print values in output pattern\n",
    "print( msg.format( chi2, p, ddof ) )"
   ]
  },
  {
   "cell_type": "code",
   "execution_count": 135,
   "metadata": {
    "scrolled": true
   },
   "outputs": [
    {
     "name": "stdout",
     "output_type": "stream",
     "text": [
      "Test Statistic: 260.71702016732104\n",
      "p-value: 1.1973570627755645e-58\n",
      "Degrees of Freedom: 1\n",
      "\n"
     ]
    }
   ],
   "source": [
    "# create cross-tab survived and passenger age group\n",
    "ss = pd.crosstab(tit.Survived, tit.Sex)\n",
    "# get chi2, degrees of freedom, p-value, and expected\n",
    "chi2, p, ddof, expected = scipy.stats.chi2_contingency( ss  )\n",
    "# create empty output pattern\n",
    "msg = \"Test Statistic: {}\\np-value: {}\\nDegrees of Freedom: {}\\n\"\n",
    "# print values in output pattern\n",
    "print( msg.format( chi2, p, ddof ) )"
   ]
  },
  {
   "cell_type": "markdown",
   "metadata": {},
   "source": [
    "### 8. Summary and Limitations\n",
    "I found that basically all variables differ for those passengers who survived and those who did not. The latter seemed often to be **young male lower class passengers who traveled alone**. It is obvious though, that all the variables are highly connected. \n",
    "\n",
    "I'm pretty dissatisfied with the way I imputed age so far. Besides, the data lacks any informations about the crew. Regarding the next step a proper carfully modeled logistic regression would be interestting to see which factors really matter and how they are connected - or just do some predictive modeling. \n",
    "\n",
    "Regarding Python, so far it seems to me that Pandas/Seaborn does not have to hide behind R's Tidyverse package canon. In fact, it seems to be pretty neat. Therefore I’m looking forward to more advanced plotting, data wrangling stuff, to write some functions, and to do some modeling to see how I get to grips with Python. The only thing that really annoys me is that compared to R Studio Jupyter Notebook and Spyder seem to be really bad. Still hoping to find an alternative. "
   ]
  }
 ],
 "metadata": {
  "kernelspec": {
   "display_name": "Python 3",
   "language": "python",
   "name": "python3"
  },
  "language_info": {
   "codemirror_mode": {
    "name": "ipython",
    "version": 3
   },
   "file_extension": ".py",
   "mimetype": "text/x-python",
   "name": "python",
   "nbconvert_exporter": "python",
   "pygments_lexer": "ipython3",
   "version": "3.6.1"
  }
 },
 "nbformat": 4,
 "nbformat_minor": 2
}
